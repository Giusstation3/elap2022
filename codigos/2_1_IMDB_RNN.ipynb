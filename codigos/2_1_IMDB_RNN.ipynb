{
  "nbformat": 4,
  "nbformat_minor": 0,
  "metadata": {
    "colab": {
      "name": "2.1_IMDB_RNN.ipynb",
      "provenance": []
    },
    "kernelspec": {
      "name": "python3",
      "display_name": "Python 3"
    },
    "language_info": {
      "name": "python"
    }
  },
  "cells": [
    {
      "cell_type": "markdown",
      "source": [
        "Definir el tamaño del vector que representa cada reseña (20 palabras) y el máximo número de palabras con el que contarán todas las reseñas (10000)\n",
        "\n"
      ],
      "metadata": {
        "id": "5YY1DIa0zH4l"
      }
    },
    {
      "cell_type": "code",
      "source": [
        "from keras.datasets import imdb\n",
        "from keras import preprocessing\n",
        "max_features = 10000\n",
        "maxlen = 20\n",
        "(x_train, y_train), (x_test, y_test) = imdb.load_data(\n",
        "num_words=max_features)\n",
        "x_train = preprocessing.sequence.pad_sequences(x_train, maxlen=maxlen)\n",
        "x_test = preprocessing.sequence.pad_sequences(x_test, maxlen=maxlen)"
      ],
      "metadata": {
        "id": "l4vO3coEzIRh"
      },
      "execution_count": null,
      "outputs": []
    },
    {
      "cell_type": "markdown",
      "source": [
        "Arquitectura de la red"
      ],
      "metadata": {
        "id": "6fxDEGQKzYGv"
      }
    },
    {
      "cell_type": "code",
      "source": [
        "from keras.models import Sequential\n",
        "from keras.layers.embeddings import Embedding\n",
        "from keras.layers import Dense, SimpleRNN\n",
        "model = Sequential()\n",
        "model.add(Embedding(max_features, 8, input_length=maxlen))\n",
        "model.add(SimpleRNN(32))\n",
        "model.add(Dense(1,activation='sigmoid'))"
      ],
      "metadata": {
        "id": "qSqIkABMzYQS"
      },
      "execution_count": null,
      "outputs": []
    },
    {
      "cell_type": "markdown",
      "source": [
        "Definir los parámetros de entrenamiento"
      ],
      "metadata": {
        "id": "DU0HcyZdz4bY"
      }
    },
    {
      "cell_type": "code",
      "source": [
        "model.compile(optimizer='rmsprop', loss='binary_crossentropy', metrics=['acc'])\n",
        "model.summary()"
      ],
      "metadata": {
        "colab": {
          "base_uri": "https://localhost:8080/"
        },
        "id": "X2dohuHGz4mQ",
        "outputId": "0d3e5b38-b8e2-4d32-8878-6a8fee60c24f"
      },
      "execution_count": null,
      "outputs": [
        {
          "output_type": "stream",
          "name": "stdout",
          "text": [
            "Model: \"sequential_5\"\n",
            "_________________________________________________________________\n",
            " Layer (type)                Output Shape              Param #   \n",
            "=================================================================\n",
            " embedding_4 (Embedding)     (None, 20, 8)             80000     \n",
            "                                                                 \n",
            " simple_rnn_2 (SimpleRNN)    (None, 32)                1312      \n",
            "                                                                 \n",
            " dense_4 (Dense)             (None, 1)                 33        \n",
            "                                                                 \n",
            "=================================================================\n",
            "Total params: 81,345\n",
            "Trainable params: 81,345\n",
            "Non-trainable params: 0\n",
            "_________________________________________________________________\n"
          ]
        }
      ]
    },
    {
      "cell_type": "markdown",
      "source": [
        "Definir un conjunto de validación para validar si hay overfitting"
      ],
      "metadata": {
        "id": "E4O1U3_rgobR"
      }
    },
    {
      "cell_type": "code",
      "source": [
        "x_val = x_train[:10000]\n",
        "partial_x_train = x_train[10000:]\n",
        "y_val = y_train[:10000]\n",
        "partial_y_train = y_train[10000:]"
      ],
      "metadata": {
        "id": "AoJopWUdgomj"
      },
      "execution_count": null,
      "outputs": []
    },
    {
      "cell_type": "markdown",
      "source": [
        "Entrenamiento con conjunto de entrenamiento y conjunto de validación"
      ],
      "metadata": {
        "id": "UAB3FeJg0D-M"
      }
    },
    {
      "cell_type": "code",
      "source": [
        "history = model.fit(partial_x_train,\n",
        "                    partial_y_train,\n",
        "                    epochs=10,\n",
        "                    batch_size=128,\n",
        "                    validation_data=(x_val, y_val))"
      ],
      "metadata": {
        "colab": {
          "base_uri": "https://localhost:8080/"
        },
        "id": "1hfoYvl-0EHt",
        "outputId": "402fd5c8-512f-4b2c-8c76-ac5345602c55"
      },
      "execution_count": null,
      "outputs": [
        {
          "output_type": "stream",
          "name": "stdout",
          "text": [
            "Epoch 1/10\n",
            "118/118 [==============================] - 2s 13ms/step - loss: 7.0294e-06 - acc: 1.0000 - val_loss: 3.3392 - val_acc: 0.6661\n",
            "Epoch 2/10\n",
            "118/118 [==============================] - 2s 13ms/step - loss: 1.2498e-04 - acc: 0.9999 - val_loss: 3.2360 - val_acc: 0.6698\n",
            "Epoch 3/10\n",
            "118/118 [==============================] - 2s 16ms/step - loss: 9.6039e-05 - acc: 1.0000 - val_loss: 3.2671 - val_acc: 0.6697\n",
            "Epoch 4/10\n",
            "118/118 [==============================] - 2s 14ms/step - loss: 2.7436e-06 - acc: 1.0000 - val_loss: 3.4321 - val_acc: 0.6653\n",
            "Epoch 5/10\n",
            "118/118 [==============================] - 2s 14ms/step - loss: 2.8123e-05 - acc: 1.0000 - val_loss: 3.5429 - val_acc: 0.6542\n",
            "Epoch 6/10\n",
            "118/118 [==============================] - 2s 13ms/step - loss: 1.7093e-05 - acc: 1.0000 - val_loss: 3.6355 - val_acc: 0.6513\n",
            "Epoch 7/10\n",
            "118/118 [==============================] - 1s 13ms/step - loss: 1.0200e-04 - acc: 0.9999 - val_loss: 3.5083 - val_acc: 0.6681\n",
            "Epoch 8/10\n",
            "118/118 [==============================] - 1s 12ms/step - loss: 3.0771e-05 - acc: 1.0000 - val_loss: 3.7181 - val_acc: 0.6490\n",
            "Epoch 9/10\n",
            "118/118 [==============================] - 2s 13ms/step - loss: 1.1670e-05 - acc: 1.0000 - val_loss: 3.4047 - val_acc: 0.6755\n",
            "Epoch 10/10\n",
            "118/118 [==============================] - 2s 13ms/step - loss: 8.2782e-06 - acc: 1.0000 - val_loss: 3.5237 - val_acc: 0.6632\n"
          ]
        }
      ]
    },
    {
      "cell_type": "code",
      "source": [
        "history_dict = history.history\n",
        "history_dict.keys()"
      ],
      "metadata": {
        "colab": {
          "base_uri": "https://localhost:8080/"
        },
        "id": "SK0dx5Fpg-mo",
        "outputId": "ed2361b7-ed25-4570-ea77-c12f2dbcef0d"
      },
      "execution_count": null,
      "outputs": [
        {
          "output_type": "execute_result",
          "data": {
            "text/plain": [
              "dict_keys(['loss', 'acc', 'val_loss', 'val_acc'])"
            ]
          },
          "metadata": {},
          "execution_count": 72
        }
      ]
    },
    {
      "cell_type": "markdown",
      "source": [
        "Graficar pérdida del entrenamiento y pérdida de la validación en tiempo real"
      ],
      "metadata": {
        "id": "Sk8pc322hDBT"
      }
    },
    {
      "cell_type": "code",
      "source": [
        "import matplotlib.pyplot as plt\n",
        "history_dict = history.history\n",
        "loss_values = history_dict[\"loss\"]\n",
        "val_loss_values = history_dict[\"val_loss\"]\n",
        "epochs = range(1, len(loss_values) + 1)\n",
        "plt.plot(epochs, loss_values, \"bo\", label=\"Training loss\")\n",
        "plt.plot(epochs, val_loss_values, \"b\", label=\"Validation loss\")\n",
        "plt.title(\"Training and validation loss\")\n",
        "plt.xlabel(\"Epochs\")\n",
        "plt.ylabel(\"Loss\")\n",
        "plt.legend()\n",
        "plt.show()"
      ],
      "metadata": {
        "colab": {
          "base_uri": "https://localhost:8080/",
          "height": 295
        },
        "id": "z3xTpyrdhDKw",
        "outputId": "8e6f04bd-56f6-49ca-a483-cd257631f72e"
      },
      "execution_count": null,
      "outputs": [
        {
          "output_type": "display_data",
          "data": {
            "text/plain": [
              "<Figure size 432x288 with 1 Axes>"
            ],
            "image/png": "[encoded data removed]"
          },
          "metadata": {
            "needs_background": "light"
          }
        }
      ]
    },
    {
      "cell_type": "markdown",
      "source": [
        "Graficar accuracy del entrenamiento y accuracy de la validación en tiempo real"
      ],
      "metadata": {
        "id": "x6yJUOJphG95"
      }
    },
    {
      "cell_type": "code",
      "source": [
        "plt.clf()\n",
        "acc = history_dict[\"acc\"]\n",
        "val_acc = history_dict[\"val_acc\"]\n",
        "plt.plot(epochs, acc, \"bo\", label=\"Training acc\")\n",
        "plt.plot(epochs, val_acc, \"b\", label=\"Validation acc\")\n",
        "plt.title(\"Training and validation accuracy\")\n",
        "plt.xlabel(\"Epochs\")\n",
        "plt.ylabel(\"Accuracy\")\n",
        "plt.legend()\n",
        "plt.show()"
      ],
      "metadata": {
        "colab": {
          "base_uri": "https://localhost:8080/",
          "height": 295
        },
        "id": "VO9SNWx2hHFp",
        "outputId": "600c2b4c-6a50-44f3-aea9-641bc73c07b3"
      },
      "execution_count": null,
      "outputs": [
        {
          "output_type": "display_data",
          "data": {
            "text/plain": [
              "<Figure size 432x288 with 1 Axes>"
            ],
            "image/png": "[encoded data removed]"
          },
          "metadata": {
            "needs_background": "light"
          }
        }
      ]
    },
    {
      "cell_type": "markdown",
      "source": [
        "Probar el modelo con un conjunto independiente de prueba"
      ],
      "metadata": {
        "id": "mn3OuatdhIia"
      }
    },
    {
      "cell_type": "code",
      "source": [
        "test_loss, test_acc = model.evaluate(x_test, y_test)\n",
        "print('test_acc: ', test_acc)\n",
        "print('test_loss: ',test_loss)"
      ],
      "metadata": {
        "colab": {
          "base_uri": "https://localhost:8080/"
        },
        "id": "b_EopiTzgPaX",
        "outputId": "4edc6e06-6334-45aa-9a02-df075272d980"
      },
      "execution_count": null,
      "outputs": [
        {
          "output_type": "stream",
          "name": "stdout",
          "text": [
            "782/782 [==============================] - 3s 4ms/step - loss: 3.5645 - acc: 0.6581\n",
            "test_acc:  0.658079981803894\n",
            "test_loss:  3.5645363330841064\n"
          ]
        }
      ]
    },
    {
      "cell_type": "markdown",
      "source": [
        "Reentrenar un modelo, dejando los ejemplos de validación para el entrenamiento\n",
        "\n",
        "\n"
      ],
      "metadata": {
        "id": "1uNiIyCxzDdw"
      }
    },
    {
      "cell_type": "code",
      "source": [
        "from keras.models import Sequential\n",
        "from keras.layers.embeddings import Embedding\n",
        "from keras.layers import Dense, SimpleRNN\n",
        "model = Sequential()\n",
        "model.add(Embedding(max_features, 8, input_length=maxlen))\n",
        "model.add(SimpleRNN(32))\n",
        "model.add(Dense(1,activation='sigmoid'))\n",
        "\n",
        "model.compile(optimizer='rmsprop', loss='binary_crossentropy', metrics=['acc'])\n",
        "\n",
        "history = model.fit(x_train,\n",
        "                    y_train,\n",
        "                    epochs=10,\n",
        "                    batch_size=128)"
      ],
      "metadata": {
        "colab": {
          "base_uri": "https://localhost:8080/"
        },
        "id": "PsbG9U7kzDoI",
        "outputId": "181227de-75b7-4b28-80bd-538bea8229dd"
      },
      "execution_count": null,
      "outputs": [
        {
          "output_type": "stream",
          "name": "stdout",
          "text": [
            "Epoch 1/10\n",
            "196/196 [==============================] - 3s 9ms/step - loss: 0.6427 - acc: 0.6109\n",
            "Epoch 2/10\n",
            "196/196 [==============================] - 2s 9ms/step - loss: 0.4866 - acc: 0.7675\n",
            "Epoch 3/10\n",
            "196/196 [==============================] - 2s 9ms/step - loss: 0.4209 - acc: 0.8056\n",
            "Epoch 4/10\n",
            "196/196 [==============================] - 2s 9ms/step - loss: 0.3837 - acc: 0.8300\n",
            "Epoch 5/10\n",
            "196/196 [==============================] - 2s 9ms/step - loss: 0.3537 - acc: 0.8465\n",
            "Epoch 6/10\n",
            "196/196 [==============================] - 2s 8ms/step - loss: 0.3270 - acc: 0.8595\n",
            "Epoch 7/10\n",
            "196/196 [==============================] - 2s 9ms/step - loss: 0.2968 - acc: 0.8765\n",
            "Epoch 8/10\n",
            "196/196 [==============================] - 2s 9ms/step - loss: 0.2655 - acc: 0.8928\n",
            "Epoch 9/10\n",
            "196/196 [==============================] - 2s 9ms/step - loss: 0.2340 - acc: 0.9077\n",
            "Epoch 10/10\n",
            "196/196 [==============================] - 2s 9ms/step - loss: 0.2028 - acc: 0.9219\n"
          ]
        }
      ]
    },
    {
      "cell_type": "markdown",
      "source": [
        "Evaluamos de nuevo"
      ],
      "metadata": {
        "id": "s4jLT4S7z5OM"
      }
    },
    {
      "cell_type": "code",
      "source": [
        "test_loss , test_acc = model.evaluate(x_test, y_test)\n",
        "print('test_acc: ', test_acc)\n",
        "print('test_loss: ',test_loss)"
      ],
      "metadata": {
        "colab": {
          "base_uri": "https://localhost:8080/"
        },
        "id": "WxOZQFcQz5Yj",
        "outputId": "3b28c22d-03c9-480f-900e-d881c7d31b3a"
      },
      "execution_count": null,
      "outputs": [
        {
          "output_type": "stream",
          "name": "stdout",
          "text": [
            "782/782 [==============================] - 3s 3ms/step - loss: 0.7141 - acc: 0.7361\n",
            "test_acc:  0.7360799908638\n",
            "test_loss:  0.7141445875167847\n"
          ]
        }
      ]
    },
    {
      "cell_type": "markdown",
      "source": [
        "Ejercicio:\n",
        "----------\n",
        "1. Probar apilando varias capas RNN ¿Mejora el accuracy?\n",
        "2. Intente regularización y/o dropout para reducir el overfitting\n",
        "3. ¿Sirve de algo aumentar el número de época? ¿y disminuirlas?"
      ],
      "metadata": {
        "id": "k0tvnafw2-3D"
      }
    }
  ]
}