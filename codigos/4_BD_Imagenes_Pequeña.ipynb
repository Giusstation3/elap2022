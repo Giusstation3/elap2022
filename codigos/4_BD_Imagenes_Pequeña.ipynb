{
  "nbformat": 4,
  "nbformat_minor": 0,
  "metadata": {
    "colab": {
      "name": "4_BD_Imagenes_Pequeña.ipynb",
      "provenance": []
    },
    "kernelspec": {
      "name": "python3",
      "display_name": "Python 3"
    },
    "language_info": {
      "name": "python"
    },
    "accelerator": "GPU",
    "gpuClass": "standard"
  },
  "cells": [
    {
      "cell_type": "markdown",
      "source": [
        "Habilita a google drive para contener los datos que usará google colab. La información está en:\n",
        "1. original_dir contiene el path de la carpeta que contiene la BD completa de Kaggle con imágenes de perros y gatos\n",
        "2. new_base_dir almacena el path de la BD reducida con la que se entrenará en este ejemplo. Dentro debe tener tres carpetas: train, test y validation y dentro de cada una, dos carpetas: Dog y Cat\n"
      ],
      "metadata": {
        "id": "EVPDq8_1k4xl"
      }
    },
    {
      "cell_type": "code",
      "source": [
        "from google.colab import drive\n",
        "drive.mount('/content/drive')\n",
        "original_dir=r\"/content/drive/MyDrive/PetImages\"\n",
        "new_base_dir=r\"/content/drive/MyDrive/PetImages/cats_vs_dogs_small\""
      ],
      "metadata": {
        "colab": {
          "base_uri": "https://localhost:8080/"
        },
        "id": "tY3-PQ0jYPMh",
        "outputId": "987be40b-7662-40da-ed87-96d561eb4363"
      },
      "execution_count": null,
      "outputs": [
        {
          "output_type": "stream",
          "name": "stdout",
          "text": [
            "Drive already mounted at /content/drive; to attempt to forcibly remount, call drive.mount(\"/content/drive\", force_remount=True).\n"
          ]
        }
      ]
    },
    {
      "cell_type": "markdown",
      "source": [
        "Este código crea a partir de la BD de kaggle un repositorio reducido (perros y gatos). De las 25,000 imágenes sólo se usarán 5,000"
      ],
      "metadata": {
        "id": "TSZv0sSSjuc9"
      }
    },
    {
      "cell_type": "code",
      "source": [
        "\"\"\"\n",
        "import os, shutil\n",
        "def make_subset(subset_name, start_index, end_index):\n",
        "    for category in (\"Cat\", \"Dog\"):\n",
        "        dir = new_base_dir+\"/\"+subset_name+\"/\"+category\n",
        "        fnames = [f\"{original_dir}/{category}/{i}.jpg\" for i in range(start_index, end_index)]\n",
        "        for fname in fnames:\n",
        "            print(fname)\n",
        "            print(dir)\n",
        "            shutil.copy(fname,dir)\n",
        "\n",
        "make_subset(\"train\", start_index=0, end_index=1000)\n",
        "make_subset(\"validation\", start_index=1000, end_index=1500)\n",
        "make_subset(\"test\", start_index=1500, end_index=2500)\n",
        "\"\"\""
      ],
      "metadata": {
        "id": "pQ7sQcZkKTD1",
        "colab": {
          "base_uri": "https://localhost:8080/",
          "height": 87
        },
        "outputId": "adde4113-d27c-4203-819b-04252d9af7ef"
      },
      "execution_count": null,
      "outputs": [
        {
          "output_type": "execute_result",
          "data": {
            "text/plain": [
              "'\\nimport os, shutil\\ndef make_subset(subset_name, start_index, end_index):\\n    for category in (\"Cat\", \"Dog\"):\\n        dir = new_base_dir+\"/\"+subset_name+\"/\"+category\\n        fnames = [f\"{original_dir}/{category}/{i}.jpg\" for i in range(start_index, end_index)]\\n        for fname in fnames:\\n            print(fname)\\n            print(dir)\\n            shutil.copy(fname,dir)\\n\\nmake_subset(\"train\", start_index=0, end_index=1000)\\nmake_subset(\"validation\", start_index=1000, end_index=1500)\\nmake_subset(\"test\", start_index=1500, end_index=2500)\\n'"
            ],
            "application/vnd.google.colaboratory.intrinsic+json": {
              "type": "string"
            }
          },
          "metadata": {},
          "execution_count": 2
        }
      ]
    },
    {
      "cell_type": "markdown",
      "source": [
        "Definición de la red neuronal convolucional (5 capas) para imagénes de 180x180 píxeles"
      ],
      "metadata": {
        "id": "ud3YHRFIPvWn"
      }
    },
    {
      "cell_type": "code",
      "source": [
        "from tensorflow import keras\n",
        "from tensorflow.keras import layers\n",
        "\n",
        "inputs = keras.Input(shape=(180, 180, 3))\n",
        "x = layers.Rescaling(1./255)(inputs)\n",
        "x = layers.Conv2D(filters=32, kernel_size=3, activation=\"relu\")(x)\n",
        "x = layers.MaxPooling2D(pool_size=2)(x)\n",
        "x = layers.Conv2D(filters=64, kernel_size=3, activation=\"relu\")(x)\n",
        "x = layers.MaxPooling2D(pool_size=2)(x)\n",
        "x = layers.Conv2D(filters=128, kernel_size=3, activation=\"relu\")(x)\n",
        "x = layers.MaxPooling2D(pool_size=2)(x)\n",
        "x = layers.Conv2D(filters=256, kernel_size=3, activation=\"relu\")(x)\n",
        "x = layers.MaxPooling2D(pool_size=2)(x)\n",
        "x = layers.Conv2D(filters=256, kernel_size=3, activation=\"relu\")(x)\n",
        "x = layers.Flatten()(x)\n",
        "outputs = layers.Dense(1, activation=\"sigmoid\")(x)\n",
        "model = keras.Model(inputs=inputs, outputs=outputs)\n",
        "model.summary()"
      ],
      "metadata": {
        "id": "JMW0bLiX15Cn",
        "colab": {
          "base_uri": "https://localhost:8080/"
        },
        "outputId": "d39a9f9a-2ff5-4480-8a7a-1cd2f258dc1b"
      },
      "execution_count": null,
      "outputs": [
        {
          "output_type": "stream",
          "name": "stdout",
          "text": [
            "Model: \"model\"\n",
            "_________________________________________________________________\n",
            " Layer (type)                Output Shape              Param #   \n",
            "=================================================================\n",
            " input_1 (InputLayer)        [(None, 180, 180, 3)]     0         \n",
            "                                                                 \n",
            " rescaling (Rescaling)       (None, 180, 180, 3)       0         \n",
            "                                                                 \n",
            " conv2d (Conv2D)             (None, 178, 178, 32)      896       \n",
            "                                                                 \n",
            " max_pooling2d (MaxPooling2D  (None, 89, 89, 32)       0         \n",
            " )                                                               \n",
            "                                                                 \n",
            " conv2d_1 (Conv2D)           (None, 87, 87, 64)        18496     \n",
            "                                                                 \n",
            " max_pooling2d_1 (MaxPooling  (None, 43, 43, 64)       0         \n",
            " 2D)                                                             \n",
            "                                                                 \n",
            " conv2d_2 (Conv2D)           (None, 41, 41, 128)       73856     \n",
            "                                                                 \n",
            " max_pooling2d_2 (MaxPooling  (None, 20, 20, 128)      0         \n",
            " 2D)                                                             \n",
            "                                                                 \n",
            " conv2d_3 (Conv2D)           (None, 18, 18, 256)       295168    \n",
            "                                                                 \n",
            " max_pooling2d_3 (MaxPooling  (None, 9, 9, 256)        0         \n",
            " 2D)                                                             \n",
            "                                                                 \n",
            " conv2d_4 (Conv2D)           (None, 7, 7, 256)         590080    \n",
            "                                                                 \n",
            " flatten (Flatten)           (None, 12544)             0         \n",
            "                                                                 \n",
            " dense (Dense)               (None, 1)                 12545     \n",
            "                                                                 \n",
            "=================================================================\n",
            "Total params: 991,041\n",
            "Trainable params: 991,041\n",
            "Non-trainable params: 0\n",
            "_________________________________________________________________\n"
          ]
        }
      ]
    },
    {
      "cell_type": "markdown",
      "source": [
        "Hiperparámetros para el entrenamiento y medición de desempeño"
      ],
      "metadata": {
        "id": "HRvLEKc1p4i4"
      }
    },
    {
      "cell_type": "code",
      "source": [
        "model.compile(loss=\"binary_crossentropy\",\n",
        "              optimizer=\"rmsprop\",\n",
        "              metrics=[\"accuracy\"])"
      ],
      "metadata": {
        "id": "FxVsUGe51_Us"
      },
      "execution_count": null,
      "outputs": []
    },
    {
      "cell_type": "markdown",
      "source": [
        "Convierte la información de la imagen de píxeles en un tensor numérico de punto flotante y ajusta el tamaño de la imagen porque todas tienen diferente resolución"
      ],
      "metadata": {
        "id": "PVEVEaPbqAFO"
      }
    },
    {
      "cell_type": "code",
      "source": [
        "from tensorflow.keras.utils import image_dataset_from_directory\n",
        "\n",
        "train_dataset = image_dataset_from_directory(\n",
        "    new_base_dir+\"/\"+\"train\",\n",
        "    image_size=(180, 180),\n",
        "    batch_size=32)\n",
        "validation_dataset = image_dataset_from_directory(\n",
        "    new_base_dir+\"/\"+\"validation\",\n",
        "    image_size=(180, 180),\n",
        "    batch_size=32)\n",
        "test_dataset = image_dataset_from_directory(\n",
        "    new_base_dir+\"/\"+\"test\",\n",
        "    image_size=(180, 180),\n",
        "    batch_size=32)"
      ],
      "metadata": {
        "id": "GQEP2LjR2JlY",
        "colab": {
          "base_uri": "https://localhost:8080/"
        },
        "outputId": "0f42fa47-3609-4d4e-9fb7-1217597f8429"
      },
      "execution_count": null,
      "outputs": [
        {
          "output_type": "stream",
          "name": "stdout",
          "text": [
            "Found 2000 files belonging to 2 classes.\n",
            "Found 1000 files belonging to 2 classes.\n",
            "Found 2000 files belonging to 2 classes.\n"
          ]
        }
      ]
    },
    {
      "cell_type": "code",
      "source": [
        "import numpy as np\n",
        "import tensorflow as tf\n",
        "random_numbers = np.random.normal(size=(1000, 16))\n",
        "dataset = tf.data.Dataset.from_tensor_slices(random_numbers)"
      ],
      "metadata": {
        "id": "qeUezU_q2Nhd"
      },
      "execution_count": null,
      "outputs": []
    },
    {
      "cell_type": "markdown",
      "source": [
        "Visualizar el tensor asociado a los datos y las etiquetas"
      ],
      "metadata": {
        "id": "WSuCAoeaGQsV"
      }
    },
    {
      "cell_type": "code",
      "source": [
        "for data_batch, labels_batch in train_dataset:\n",
        "    print(\"data batch shape:\", data_batch.shape)\n",
        "    print(\"labels batch shape:\", labels_batch.shape)\n",
        "    break"
      ],
      "metadata": {
        "id": "IhTZt7M02b_z",
        "colab": {
          "base_uri": "https://localhost:8080/"
        },
        "outputId": "1bbdd9f7-95a7-4e8b-abfc-814efecc87a8"
      },
      "execution_count": null,
      "outputs": [
        {
          "output_type": "stream",
          "name": "stdout",
          "text": [
            "data batch shape: (32, 180, 180, 3)\n",
            "labels batch shape: (32,)\n"
          ]
        }
      ]
    },
    {
      "cell_type": "markdown",
      "source": [
        "Fase de entrenamiento "
      ],
      "metadata": {
        "id": "W0_f6hyRDYxj"
      }
    },
    {
      "cell_type": "code",
      "source": [
        "history = model.fit(\n",
        "    train_dataset,\n",
        "    epochs=30,\n",
        "    validation_data=validation_dataset)"
      ],
      "metadata": {
        "id": "d1x_OKSZ2f73",
        "colab": {
          "base_uri": "https://localhost:8080/"
        },
        "outputId": "7bd67162-1d16-4b01-f44c-26195f087c3c"
      },
      "execution_count": null,
      "outputs": [
        {
          "output_type": "stream",
          "name": "stdout",
          "text": [
            "Epoch 1/10\n",
            "63/63 [==============================] - 224s 3s/step - loss: 0.7319 - accuracy: 0.4950 - val_loss: 0.6927 - val_accuracy: 0.5000\n",
            "Epoch 2/10\n",
            "63/63 [==============================] - 7s 108ms/step - loss: 0.6981 - accuracy: 0.5450 - val_loss: 0.6650 - val_accuracy: 0.5930\n",
            "Epoch 3/10\n",
            "63/63 [==============================] - 7s 108ms/step - loss: 0.6801 - accuracy: 0.5920 - val_loss: 0.6729 - val_accuracy: 0.5970\n",
            "Epoch 4/10\n",
            "63/63 [==============================] - 7s 107ms/step - loss: 0.6425 - accuracy: 0.6615 - val_loss: 0.6406 - val_accuracy: 0.6470\n",
            "Epoch 5/10\n",
            "63/63 [==============================] - 7s 109ms/step - loss: 0.5986 - accuracy: 0.6865 - val_loss: 0.6458 - val_accuracy: 0.6230\n",
            "Epoch 6/10\n",
            "63/63 [==============================] - 8s 118ms/step - loss: 0.5552 - accuracy: 0.7285 - val_loss: 0.6755 - val_accuracy: 0.6690\n",
            "Epoch 7/10\n",
            "63/63 [==============================] - 7s 109ms/step - loss: 0.4966 - accuracy: 0.7540 - val_loss: 0.7021 - val_accuracy: 0.6540\n",
            "Epoch 8/10\n",
            "63/63 [==============================] - 7s 110ms/step - loss: 0.4458 - accuracy: 0.7945 - val_loss: 0.5918 - val_accuracy: 0.7170\n",
            "Epoch 9/10\n",
            "63/63 [==============================] - 7s 106ms/step - loss: 0.3724 - accuracy: 0.8225 - val_loss: 0.7400 - val_accuracy: 0.6870\n",
            "Epoch 10/10\n",
            "63/63 [==============================] - 7s 109ms/step - loss: 0.3381 - accuracy: 0.8535 - val_loss: 0.7717 - val_accuracy: 0.7050\n"
          ]
        }
      ]
    },
    {
      "cell_type": "markdown",
      "source": [
        "Visualización de la pérdidad y el accuracy tanto para los datos de entrenamiento como para los datos de validación y así detectar si hay overfitting"
      ],
      "metadata": {
        "id": "qDrOFRmXD0QE"
      }
    },
    {
      "cell_type": "code",
      "source": [
        "import matplotlib.pyplot as plt\n",
        "accuracy = history.history[\"accuracy\"]\n",
        "val_accuracy = history.history[\"val_accuracy\"]\n",
        "loss = history.history[\"loss\"]\n",
        "val_loss = history.history[\"val_loss\"]\n",
        "epochs = range(1, len(accuracy) + 1)\n",
        "plt.plot(epochs, accuracy, \"bo\", label=\"Training accuracy\")\n",
        "plt.plot(epochs, val_accuracy, \"b\", label=\"Validation accuracy\")\n",
        "plt.title(\"Training and validation accuracy\")\n",
        "plt.legend()\n",
        "plt.figure()\n",
        "plt.plot(epochs, loss, \"bo\", label=\"Training loss\")\n",
        "plt.plot(epochs, val_loss, \"b\", label=\"Validation loss\")\n",
        "plt.title(\"Training and validation loss\")\n",
        "plt.legend()\n",
        "plt.show()"
      ],
      "metadata": {
        "id": "NExGy0A72jf3",
        "colab": {
          "base_uri": "https://localhost:8080/",
          "height": 545
        },
        "outputId": "02f3e05b-350f-443a-b1e7-3112fc0f22af"
      },
      "execution_count": null,
      "outputs": [
        {
          "output_type": "display_data",
          "data": {
            "text/plain": [
              "<Figure size 432x288 with 1 Axes>"
            ],
            "image/png": "[encoded data removed]"
          },
          "metadata": {
            "needs_background": "light"
          }
        },
        {
          "output_type": "display_data",
          "data": {
            "text/plain": [
              "<Figure size 432x288 with 1 Axes>"
            ],
            "image/png": "[encoded data removed]"
          },
          "metadata": {
            "needs_background": "light"
          }
        }
      ]
    },
    {
      "cell_type": "markdown",
      "source": [
        "Ejercicio:\n",
        "----------\n",
        "1. Utilizar regularización y/o dropout para intentar disminuir o eliminar el overfitting ¿Qué observa?\n",
        "2. Probar con menos epocas y lotes (batch_size) más grandes ¿Qué observa?\n",
        "3. Dismunuya el tamaño de la red para intentar eliminar el overfitting ¿Qué observa?\n",
        "4. ¿Cuál le pareció que daba mejores resultados?"
      ],
      "metadata": {
        "id": "aRjEZKVeHx2_"
      }
    }
  ]
}