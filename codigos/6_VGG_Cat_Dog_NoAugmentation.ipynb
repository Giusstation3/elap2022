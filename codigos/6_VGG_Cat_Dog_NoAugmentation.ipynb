{
  "nbformat": 4,
  "nbformat_minor": 0,
  "metadata": {
    "colab": {
      "name": "6_VGG_Cat_Dog_NoAugmentation.ipynb",
      "provenance": []
    },
    "kernelspec": {
      "name": "python3",
      "display_name": "Python 3"
    },
    "language_info": {
      "name": "python"
    },
    "accelerator": "GPU",
    "gpuClass": "standard"
  },
  "cells": [
    {
      "cell_type": "markdown",
      "source": [
        "Instanciando la red pre-entrenada VGG16 y configurando la entrada para imágenes RGB 180x180\n",
        "\n",
        "Sin expansión de datos y con la BD de perros y gatos reducida (sólo 5000 imágenes)"
      ],
      "metadata": {
        "id": "pT6Mw2R7OkbD"
      }
    },
    {
      "cell_type": "code",
      "source": [
        "from tensorflow import keras\n",
        "from tensorflow.keras import layers\n",
        "import matplotlib.pyplot as plt\n",
        "\n",
        "conv_base = keras.applications.vgg16.VGG16(\n",
        "    weights=\"imagenet\",\n",
        "    include_top=False,\n",
        "    input_shape=(180, 180, 3))"
      ],
      "metadata": {
        "colab": {
          "base_uri": "https://localhost:8080/"
        },
        "id": "a97oaA-xOksb",
        "outputId": "6ca431a8-6a06-458d-c827-39ac969b8615"
      },
      "execution_count": null,
      "outputs": [
        {
          "output_type": "stream",
          "name": "stdout",
          "text": [
            "Downloading data from https://storage.googleapis.com/tensorflow/keras-applications/vgg16/vgg16_weights_tf_dim_ordering_tf_kernels_notop.h5\n",
            "58892288/58889256 [==============================] - 1s 0us/step\n",
            "58900480/58889256 [==============================] - 1s 0us/step\n"
          ]
        }
      ]
    },
    {
      "cell_type": "markdown",
      "source": [
        "Visualizando la arquitectura de la red"
      ],
      "metadata": {
        "id": "HP06KrprOmy5"
      }
    },
    {
      "cell_type": "code",
      "source": [
        "conv_base.summary()"
      ],
      "metadata": {
        "colab": {
          "base_uri": "https://localhost:8080/"
        },
        "id": "cGedz7FlOm_u",
        "outputId": "58355056-37ab-485d-ab0a-0cfe319dc4e1"
      },
      "execution_count": null,
      "outputs": [
        {
          "output_type": "stream",
          "name": "stdout",
          "text": [
            "Model: \"vgg16\"\n",
            "_________________________________________________________________\n",
            " Layer (type)                Output Shape              Param #   \n",
            "=================================================================\n",
            " input_1 (InputLayer)        [(None, 180, 180, 3)]     0         \n",
            "                                                                 \n",
            " block1_conv1 (Conv2D)       (None, 180, 180, 64)      1792      \n",
            "                                                                 \n",
            " block1_conv2 (Conv2D)       (None, 180, 180, 64)      36928     \n",
            "                                                                 \n",
            " block1_pool (MaxPooling2D)  (None, 90, 90, 64)        0         \n",
            "                                                                 \n",
            " block2_conv1 (Conv2D)       (None, 90, 90, 128)       73856     \n",
            "                                                                 \n",
            " block2_conv2 (Conv2D)       (None, 90, 90, 128)       147584    \n",
            "                                                                 \n",
            " block2_pool (MaxPooling2D)  (None, 45, 45, 128)       0         \n",
            "                                                                 \n",
            " block3_conv1 (Conv2D)       (None, 45, 45, 256)       295168    \n",
            "                                                                 \n",
            " block3_conv2 (Conv2D)       (None, 45, 45, 256)       590080    \n",
            "                                                                 \n",
            " block3_conv3 (Conv2D)       (None, 45, 45, 256)       590080    \n",
            "                                                                 \n",
            " block3_pool (MaxPooling2D)  (None, 22, 22, 256)       0         \n",
            "                                                                 \n",
            " block4_conv1 (Conv2D)       (None, 22, 22, 512)       1180160   \n",
            "                                                                 \n",
            " block4_conv2 (Conv2D)       (None, 22, 22, 512)       2359808   \n",
            "                                                                 \n",
            " block4_conv3 (Conv2D)       (None, 22, 22, 512)       2359808   \n",
            "                                                                 \n",
            " block4_pool (MaxPooling2D)  (None, 11, 11, 512)       0         \n",
            "                                                                 \n",
            " block5_conv1 (Conv2D)       (None, 11, 11, 512)       2359808   \n",
            "                                                                 \n",
            " block5_conv2 (Conv2D)       (None, 11, 11, 512)       2359808   \n",
            "                                                                 \n",
            " block5_conv3 (Conv2D)       (None, 11, 11, 512)       2359808   \n",
            "                                                                 \n",
            " block5_pool (MaxPooling2D)  (None, 5, 5, 512)         0         \n",
            "                                                                 \n",
            "=================================================================\n",
            "Total params: 14,714,688\n",
            "Trainable params: 14,714,688\n",
            "Non-trainable params: 0\n",
            "_________________________________________________________________\n"
          ]
        }
      ]
    },
    {
      "cell_type": "markdown",
      "source": [
        "Accediendo a la BD de perros y gatos\n",
        "\n"
      ],
      "metadata": {
        "id": "ssq-jx4IRs_J"
      }
    },
    {
      "cell_type": "code",
      "source": [
        "from google.colab import drive\n",
        "drive.mount('/content/drive')\n",
        "original_dir=r\"/content/drive/MyDrive/PetImages\"\n",
        "new_base_dir=r\"/content/drive/MyDrive/PetImages/cats_vs_dogs_small\""
      ],
      "metadata": {
        "colab": {
          "base_uri": "https://localhost:8080/"
        },
        "id": "olGqbRjCRtXj",
        "outputId": "ed06efa9-e0e4-4ca8-d302-c769dea10efb"
      },
      "execution_count": null,
      "outputs": [
        {
          "output_type": "stream",
          "name": "stdout",
          "text": [
            "Mounted at /content/drive\n"
          ]
        }
      ]
    },
    {
      "cell_type": "markdown",
      "source": [
        "Ajustando los datos de la BD de perros y gatos"
      ],
      "metadata": {
        "id": "bsHuXruoSeH-"
      }
    },
    {
      "cell_type": "code",
      "source": [
        "from tensorflow.keras.utils import image_dataset_from_directory\n",
        "\n",
        "train_dataset = image_dataset_from_directory(\n",
        "    new_base_dir+\"/\"+\"train\",\n",
        "    image_size=(180, 180),\n",
        "    batch_size=32)\n",
        "validation_dataset = image_dataset_from_directory(\n",
        "    new_base_dir+\"/\"+\"validation\",\n",
        "    image_size=(180, 180),\n",
        "    batch_size=32)\n",
        "test_dataset = image_dataset_from_directory(\n",
        "    new_base_dir+\"/\"+\"test\",\n",
        "    image_size=(180, 180),\n",
        "    batch_size=32)"
      ],
      "metadata": {
        "colab": {
          "base_uri": "https://localhost:8080/"
        },
        "id": "4JgDdwxeSeTv",
        "outputId": "50c25d26-1d43-47a0-a6c1-ca10ad4f35c9"
      },
      "execution_count": null,
      "outputs": [
        {
          "output_type": "stream",
          "name": "stdout",
          "text": [
            "Found 2000 files belonging to 2 classes.\n",
            "Found 1000 files belonging to 2 classes.\n",
            "Found 2000 files belonging to 2 classes.\n"
          ]
        }
      ]
    },
    {
      "cell_type": "markdown",
      "source": [
        "Extrayendo las características de los conjuntos de entrenamiento, validación y prueba con sus etiquetas"
      ],
      "metadata": {
        "id": "vvqAA3uFPInN"
      }
    },
    {
      "cell_type": "code",
      "source": [
        "import numpy as np\n",
        "\n",
        "def get_features_and_labels(dataset):\n",
        "    all_features = []\n",
        "    all_labels = []\n",
        "    for images, labels in dataset:\n",
        "        preprocessed_images = keras.applications.vgg16.preprocess_input(images)\n",
        "        features = conv_base.predict(preprocessed_images)\n",
        "        all_features.append(features)\n",
        "        all_labels.append(labels)\n",
        "    return np.concatenate(all_features), np.concatenate(all_labels)\n",
        "\n",
        "train_features, train_labels =  get_features_and_labels(train_dataset)\n",
        "val_features, val_labels =  get_features_and_labels(validation_dataset)\n",
        "#test_features, test_labels =  get_features_and_labels(test_dataset)"
      ],
      "metadata": {
        "id": "xx6l0upHPIzs"
      },
      "execution_count": null,
      "outputs": []
    },
    {
      "cell_type": "code",
      "source": [
        "train_features.shape"
      ],
      "metadata": {
        "colab": {
          "base_uri": "https://localhost:8080/"
        },
        "id": "G8u6PWexPkzq",
        "outputId": "d49fec4e-ac19-4dfc-ebcb-af4ebf6cf414"
      },
      "execution_count": null,
      "outputs": [
        {
          "output_type": "execute_result",
          "data": {
            "text/plain": [
              "(2000, 5, 5, 512)"
            ]
          },
          "metadata": {},
          "execution_count": 6
        }
      ]
    },
    {
      "cell_type": "markdown",
      "source": [
        "Definiendo la arquitectura de la red e hiperparámetros de pérdida, algoritmo de descenso de gradiente y métrica de evaluación"
      ],
      "metadata": {
        "id": "2Yik5lGxPsUX"
      }
    },
    {
      "cell_type": "code",
      "source": [
        "inputs = keras.Input(shape=(5, 5, 512))\n",
        "x = layers.Flatten()(inputs)\n",
        "x = layers.Dense(256)(x)\n",
        "x = layers.Dropout(0.5)(x)\n",
        "outputs = layers.Dense(1, activation=\"sigmoid\")(x)\n",
        "model = keras.Model(inputs, outputs)\n",
        "\n",
        "model.compile(loss=\"binary_crossentropy\",\n",
        "              optimizer=\"rmsprop\",\n",
        "              metrics=[\"accuracy\"])"
      ],
      "metadata": {
        "id": "uxkxbpT6PseE"
      },
      "execution_count": null,
      "outputs": []
    },
    {
      "cell_type": "markdown",
      "source": [
        "Entrenando ..."
      ],
      "metadata": {
        "id": "fBAY7IZaQVtu"
      }
    },
    {
      "cell_type": "code",
      "source": [
        "history = model.fit(\n",
        "    train_features, train_labels,\n",
        "    epochs=20,\n",
        "    validation_data=(val_features, val_labels))"
      ],
      "metadata": {
        "colab": {
          "base_uri": "https://localhost:8080/"
        },
        "id": "2y8cSPt2QV4k",
        "outputId": "61626077-241d-4d8c-c35b-c0510dd6b3ff"
      },
      "execution_count": null,
      "outputs": [
        {
          "output_type": "stream",
          "name": "stdout",
          "text": [
            "Epoch 1/20\n",
            "63/63 [==============================] - 3s 11ms/step - loss: 13.8495 - accuracy: 0.9280 - val_loss: 5.9048 - val_accuracy: 0.9560\n",
            "Epoch 2/20\n",
            "63/63 [==============================] - 0s 8ms/step - loss: 2.4213 - accuracy: 0.9805 - val_loss: 5.1189 - val_accuracy: 0.9630\n",
            "Epoch 3/20\n",
            "63/63 [==============================] - 0s 7ms/step - loss: 2.7685 - accuracy: 0.9815 - val_loss: 4.0047 - val_accuracy: 0.9740\n",
            "Epoch 4/20\n",
            "63/63 [==============================] - 0s 8ms/step - loss: 2.2309 - accuracy: 0.9870 - val_loss: 3.6759 - val_accuracy: 0.9770\n",
            "Epoch 5/20\n",
            "63/63 [==============================] - 0s 6ms/step - loss: 1.0382 - accuracy: 0.9930 - val_loss: 5.2436 - val_accuracy: 0.9750\n",
            "Epoch 6/20\n",
            "63/63 [==============================] - 1s 9ms/step - loss: 0.6076 - accuracy: 0.9950 - val_loss: 5.8837 - val_accuracy: 0.9730\n",
            "Epoch 7/20\n",
            "63/63 [==============================] - 1s 8ms/step - loss: 0.8972 - accuracy: 0.9935 - val_loss: 8.9633 - val_accuracy: 0.9650\n",
            "Epoch 8/20\n",
            "63/63 [==============================] - 1s 8ms/step - loss: 0.2447 - accuracy: 0.9980 - val_loss: 5.6232 - val_accuracy: 0.9740\n",
            "Epoch 9/20\n",
            "63/63 [==============================] - 1s 9ms/step - loss: 0.1474 - accuracy: 0.9990 - val_loss: 5.5587 - val_accuracy: 0.9760\n",
            "Epoch 10/20\n",
            "63/63 [==============================] - 1s 9ms/step - loss: 0.5583 - accuracy: 0.9955 - val_loss: 5.1766 - val_accuracy: 0.9750\n",
            "Epoch 11/20\n",
            "63/63 [==============================] - 1s 9ms/step - loss: 0.7409 - accuracy: 0.9950 - val_loss: 6.9636 - val_accuracy: 0.9730\n",
            "Epoch 12/20\n",
            "63/63 [==============================] - 0s 7ms/step - loss: 0.0845 - accuracy: 0.9990 - val_loss: 6.6007 - val_accuracy: 0.9730\n",
            "Epoch 13/20\n",
            "63/63 [==============================] - 0s 8ms/step - loss: 0.3546 - accuracy: 0.9970 - val_loss: 5.7154 - val_accuracy: 0.9730\n",
            "Epoch 14/20\n",
            "63/63 [==============================] - 0s 7ms/step - loss: 5.6265e-21 - accuracy: 1.0000 - val_loss: 5.7154 - val_accuracy: 0.9730\n",
            "Epoch 15/20\n",
            "63/63 [==============================] - 0s 8ms/step - loss: 1.9873e-11 - accuracy: 1.0000 - val_loss: 5.7088 - val_accuracy: 0.9730\n",
            "Epoch 16/20\n",
            "63/63 [==============================] - 0s 8ms/step - loss: 1.1975e-29 - accuracy: 1.0000 - val_loss: 5.7088 - val_accuracy: 0.9730\n",
            "Epoch 17/20\n",
            "63/63 [==============================] - 0s 8ms/step - loss: 5.6220e-10 - accuracy: 1.0000 - val_loss: 5.8851 - val_accuracy: 0.9730\n",
            "Epoch 18/20\n",
            "63/63 [==============================] - 0s 7ms/step - loss: 0.1272 - accuracy: 0.9990 - val_loss: 7.1063 - val_accuracy: 0.9760\n",
            "Epoch 19/20\n",
            "63/63 [==============================] - 0s 8ms/step - loss: 0.0227 - accuracy: 0.9990 - val_loss: 6.4943 - val_accuracy: 0.9760\n",
            "Epoch 20/20\n",
            "63/63 [==============================] - 0s 6ms/step - loss: 0.0508 - accuracy: 0.9995 - val_loss: 4.9257 - val_accuracy: 0.9760\n"
          ]
        }
      ]
    },
    {
      "cell_type": "markdown",
      "source": [
        "Visualizando la pérdida y el accuracy durante el entrenamiento"
      ],
      "metadata": {
        "id": "ip9uLR0mQkXs"
      }
    },
    {
      "cell_type": "code",
      "source": [
        "acc = history.history[\"accuracy\"]\n",
        "val_acc = history.history[\"val_accuracy\"]\n",
        "loss = history.history[\"loss\"]\n",
        "val_loss = history.history[\"val_loss\"]\n",
        "epochs = range(1, len(acc) + 1)\n",
        "plt.plot(epochs, acc, \"bo\", label=\"Training accuracy\")\n",
        "plt.plot(epochs, val_acc, \"b\", label=\"Validation accuracy\")\n",
        "plt.title(\"Training and validation accuracy\")\n",
        "plt.legend()\n",
        "plt.figure()\n",
        "plt.plot(epochs, loss, \"bo\", label=\"Training loss\")\n",
        "plt.plot(epochs, val_loss, \"b\", label=\"Validation loss\")\n",
        "plt.title(\"Training and validation loss\")\n",
        "plt.legend()\n",
        "plt.show()"
      ],
      "metadata": {
        "colab": {
          "base_uri": "https://localhost:8080/"
        },
        "id": "UrCXgjYXQkil",
        "outputId": "d7905244-4987-400b-d1ae-7c8af0d9515c"
      },
      "execution_count": null,
      "outputs": [
        {
          "output_type": "display_data",
          "data": {
            "text/plain": [
              "<Figure size 432x288 with 1 Axes>"
            ],
            "image/png": "[encoded data removed]"
          },
          "metadata": {
            "needs_background": "light"
          }
        },
        {
          "output_type": "display_data",
          "data": {
            "text/plain": [
              "<Figure size 432x288 with 1 Axes>"
            ],
            "image/png": "[encoded data removed]"
          },
          "metadata": {
            "needs_background": "light"
          }
        }
      ]
    },
    {
      "cell_type": "markdown",
      "source": [
        "Ejercicio:\n",
        "---------\n",
        "1. Hay aún overfitting ... Intente alguna de las estrategias que ya conoce para reducirlo\n",
        "2. ¿Qué efecto tiene cambiar la cantidad de épocas?"
      ],
      "metadata": {
        "id": "kxekMvqUdH6u"
      }
    }
  ]
}