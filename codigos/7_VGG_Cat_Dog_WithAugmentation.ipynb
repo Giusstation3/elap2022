{
  "cells": [
    {
      "cell_type": "markdown",
      "metadata": {
        "id": "QMH1IrareWx4"
      },
      "source": [
        "Instanciando la red pre-entrenada VGG16 para la misma BD de perros y gatos reducida (5000 imágenes)pero con expansión de datos "
      ]
    },
    {
      "cell_type": "code",
      "execution_count": null,
      "metadata": {
        "colab": {
          "base_uri": "https://localhost:8080/"
        },
        "id": "Q54HozfteW7A",
        "outputId": "911ce580-986c-4d8a-a9cb-9f219f8d26be"
      },
      "outputs": [
        {
          "output_type": "stream",
          "name": "stdout",
          "text": [
            "Downloading data from https://storage.googleapis.com/tensorflow/keras-applications/vgg16/vgg16_weights_tf_dim_ordering_tf_kernels_notop.h5\n",
            "58892288/58889256 [==============================] - 1s 0us/step\n",
            "58900480/58889256 [==============================] - 1s 0us/step\n"
          ]
        }
      ],
      "source": [
        "from tensorflow import keras\n",
        "from tensorflow.keras import layers\n",
        "import matplotlib.pyplot as plt\n",
        "\n",
        "conv_base  = keras.applications.vgg16.VGG16(\n",
        "    weights=\"imagenet\",\n",
        "    include_top=False)\n",
        "conv_base.trainable = False"
      ]
    },
    {
      "cell_type": "markdown",
      "metadata": {
        "id": "8Z9rQsd2fc2n"
      },
      "source": [
        "Accediendo a la BD de perros y gatos"
      ]
    },
    {
      "cell_type": "code",
      "execution_count": null,
      "metadata": {
        "colab": {
          "base_uri": "https://localhost:8080/"
        },
        "id": "LFvr5p5hfc-K",
        "outputId": "052922e9-890a-4da2-83d2-2f24f5b997c4"
      },
      "outputs": [
        {
          "output_type": "stream",
          "name": "stdout",
          "text": [
            "Mounted at /content/drive\n"
          ]
        }
      ],
      "source": [
        "from google.colab import drive\n",
        "drive.mount('/content/drive')\n",
        "original_dir=r\"/content/drive/MyDrive/PetImages\"\n",
        "new_base_dir=r\"/content/drive/MyDrive/PetImages/cats_vs_dogs_small\""
      ]
    },
    {
      "cell_type": "markdown",
      "metadata": {
        "id": "91s-5TvOfmzI"
      },
      "source": [
        "Ajustando los datos de la BD de perros y gatos"
      ]
    },
    {
      "cell_type": "code",
      "execution_count": null,
      "metadata": {
        "colab": {
          "base_uri": "https://localhost:8080/"
        },
        "id": "RgwKacovfm7A",
        "outputId": "b93e9e15-458f-42c2-c69c-335e38af90f8"
      },
      "outputs": [
        {
          "output_type": "stream",
          "name": "stdout",
          "text": [
            "Found 2000 files belonging to 2 classes.\n",
            "Found 1000 files belonging to 2 classes.\n",
            "Found 2000 files belonging to 2 classes.\n"
          ]
        }
      ],
      "source": [
        "from tensorflow.keras.utils import image_dataset_from_directory\n",
        "\n",
        "train_dataset = image_dataset_from_directory(\n",
        "    new_base_dir+\"/\"+\"train\",\n",
        "    image_size=(180, 180),\n",
        "    batch_size=32)\n",
        "validation_dataset = image_dataset_from_directory(\n",
        "    new_base_dir+\"/\"+\"validation\",\n",
        "    image_size=(180, 180),\n",
        "    batch_size=32)\n",
        "test_dataset = image_dataset_from_directory(\n",
        "    new_base_dir+\"/\"+\"test\",\n",
        "    image_size=(180, 180),\n",
        "    batch_size=32)"
      ]
    },
    {
      "cell_type": "markdown",
      "metadata": {
        "id": "RCTSW-U5gFLc"
      },
      "source": [
        "Muestra la lista de pesos antes y despues del hacer estática VGG"
      ]
    },
    {
      "cell_type": "code",
      "execution_count": null,
      "metadata": {
        "colab": {
          "base_uri": "https://localhost:8080/"
        },
        "id": "fjn_WS2tgFUD",
        "outputId": "ddab65dd-8dbc-4d29-8b4a-b6b1a6d6558c"
      },
      "outputs": [
        {
          "output_type": "stream",
          "name": "stdout",
          "text": [
            "This is the number of trainable weights before freezing the conv base: 26\n",
            "This is the number of trainable weights after freezing the conv base: 0\n"
          ]
        }
      ],
      "source": [
        "conv_base.trainable = True\n",
        "print(\"This is the number of trainable weights \"\n",
        "      \"before freezing the conv base:\", len(conv_base.trainable_weights))\n",
        "\n",
        "conv_base.trainable = False\n",
        "print(\"This is the number of trainable weights \"\n",
        "      \"after freezing the conv base:\", len(conv_base.trainable_weights))"
      ]
    },
    {
      "cell_type": "markdown",
      "metadata": {
        "id": "jZNLGU6fgZ8t"
      },
      "source": [
        "Expansión de las imágenes, definición de la arquitectura y establecimiento de los hiperparámetros de entrenamiento "
      ]
    },
    {
      "cell_type": "code",
      "execution_count": null,
      "metadata": {
        "id": "6zzlidXmgaGY"
      },
      "outputs": [],
      "source": [
        "data_augmentation = keras.Sequential(\n",
        "    [\n",
        "        layers.RandomFlip(\"horizontal\"),\n",
        "        layers.RandomRotation(0.1),\n",
        "        layers.RandomZoom(0.2),\n",
        "    ]\n",
        ")\n",
        "\n",
        "inputs = keras.Input(shape=(180, 180, 3))\n",
        "x = data_augmentation(inputs)\n",
        "x = keras.applications.vgg16.preprocess_input(x)\n",
        "x = conv_base(x)\n",
        "x = layers.Flatten()(x)\n",
        "x = layers.Dense(256)(x)\n",
        "x = layers.Dropout(0.5)(x)\n",
        "outputs = layers.Dense(1, activation=\"sigmoid\")(x)\n",
        "model = keras.Model(inputs, outputs)\n",
        "model.compile(loss=\"binary_crossentropy\",\n",
        "              optimizer=\"rmsprop\",\n",
        "              metrics=[\"accuracy\"])"
      ]
    },
    {
      "cell_type": "markdown",
      "metadata": {
        "id": "XMXMGzU1g81v"
      },
      "source": [
        "Entrenando ..."
      ]
    },
    {
      "cell_type": "code",
      "execution_count": null,
      "metadata": {
        "colab": {
          "base_uri": "https://localhost:8080/"
        },
        "id": "VS7rfTHVg8_7",
        "outputId": "1c7f6468-945b-49dc-e2e7-f9eaa9edf6e7"
      },
      "outputs": [
        {
          "output_type": "stream",
          "name": "stdout",
          "text": [
            "Epoch 1/10\n",
            "63/63 [==============================] - 935s 14s/step - loss: 25.6799 - accuracy: 0.8940 - val_loss: 12.9527 - val_accuracy: 0.9310\n",
            "Epoch 2/10\n",
            "63/63 [==============================] - 861s 14s/step - loss: 8.0633 - accuracy: 0.9445 - val_loss: 6.0463 - val_accuracy: 0.9670\n",
            "Epoch 3/10\n",
            "63/63 [==============================] - 863s 14s/step - loss: 6.7127 - accuracy: 0.9575 - val_loss: 6.0772 - val_accuracy: 0.9630\n",
            "Epoch 4/10\n",
            "63/63 [==============================] - 864s 14s/step - loss: 6.5152 - accuracy: 0.9545 - val_loss: 5.9133 - val_accuracy: 0.9700\n",
            "Epoch 5/10\n",
            "63/63 [==============================] - 865s 14s/step - loss: 3.8305 - accuracy: 0.9660 - val_loss: 3.7750 - val_accuracy: 0.9760\n",
            "Epoch 6/10\n",
            "63/63 [==============================] - 861s 14s/step - loss: 2.7774 - accuracy: 0.9765 - val_loss: 3.5580 - val_accuracy: 0.9790\n",
            "Epoch 7/10\n",
            "63/63 [==============================] - 864s 14s/step - loss: 4.8788 - accuracy: 0.9680 - val_loss: 5.8290 - val_accuracy: 0.9730\n",
            "Epoch 8/10\n",
            "63/63 [==============================] - 865s 14s/step - loss: 3.7538 - accuracy: 0.9720 - val_loss: 4.1524 - val_accuracy: 0.9760\n",
            "Epoch 9/10\n",
            "63/63 [==============================] - 862s 14s/step - loss: 3.6483 - accuracy: 0.9730 - val_loss: 4.1095 - val_accuracy: 0.9780\n",
            "Epoch 10/10\n",
            "63/63 [==============================] - 864s 14s/step - loss: 3.1796 - accuracy: 0.9725 - val_loss: 4.2049 - val_accuracy: 0.9780\n"
          ]
        }
      ],
      "source": [
        "history = model.fit(\n",
        "    train_dataset,\n",
        "    epochs=10, #100\n",
        "    validation_data=validation_dataset)"
      ]
    },
    {
      "cell_type": "markdown",
      "metadata": {
        "id": "_o6pKyCFhWkR"
      },
      "source": [
        "Evaluación del modelo con la pérdida y el accuracy durante el entrenamiento"
      ]
    },
    {
      "cell_type": "code",
      "execution_count": null,
      "metadata": {
        "id": "K1SKkdj3hWyK",
        "colab": {
          "base_uri": "https://localhost:8080/",
          "height": 72
        },
        "outputId": "64718c73-c3c9-4771-bf38-a8f709ee763c"
      },
      "outputs": [
        {
          "output_type": "display_data",
          "data": {
            "text/plain": [
              "<Figure size 432x288 with 1 Axes>"
            ],
            "image/png": "[encoded data removed]"
          },
          "metadata": {
            "needs_background": "light"
          }
        },
        {
          "output_type": "display_data",
          "data": {
            "text/plain": [
              "<Figure size 432x288 with 1 Axes>"
            ],
            "image/png": "[encoded data removed]"
          },
          "metadata": {
            "needs_background": "light"
          }
        }
      ],
      "source": [
        "acc = history.history[\"accuracy\"]\n",
        "val_acc = history.history[\"val_accuracy\"]\n",
        "loss = history.history[\"loss\"]\n",
        "val_loss = history.history[\"val_loss\"]\n",
        "epochs = range(1, len(acc) + 1)\n",
        "plt.plot(epochs, acc, \"bo\", label=\"Training accuracy\")\n",
        "plt.plot(epochs, val_acc, \"b\", label=\"Validation accuracy\")\n",
        "plt.title(\"Training and validation accuracy\")\n",
        "plt.legend()\n",
        "plt.figure()\n",
        "plt.plot(epochs, loss, \"bo\", label=\"Training loss\")\n",
        "plt.plot(epochs, val_loss, \"b\", label=\"Validation loss\")\n",
        "plt.title(\"Training and validation loss\")\n",
        "plt.legend()\n",
        "plt.show()"
      ]
    }
  ],
  "metadata": {
    "accelerator": "GPU",
    "colab": {
      "name": "7_VGG_Cat_Dog_WithAugmentation.ipynb",
      "provenance": []
    },
    "gpuClass": "standard",
    "kernelspec": {
      "display_name": "Python 3",
      "name": "python3"
    },
    "language_info": {
      "name": "python"
    }
  },
  "nbformat": 4,
  "nbformat_minor": 0
}