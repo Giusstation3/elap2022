{
  "nbformat": 4,
  "nbformat_minor": 0,
  "metadata": {
    "colab": {
      "name": "8_FineTune_CatDog.ipynb",
      "provenance": []
    },
    "kernelspec": {
      "name": "python3",
      "display_name": "Python 3"
    },
    "language_info": {
      "name": "python"
    },
    "accelerator": "GPU",
    "gpuClass": "standard"
  },
  "cells": [
    {
      "cell_type": "markdown",
      "source": [
        "Instanciando la red pre-entrenada VGG16 para aplicarla a la BD de perros y gatos reducida (5000 imágenes) con expansión de imágenes pero esta vez con entonación fina"
      ],
      "metadata": {
        "id": "Rs7nhDZ10rMd"
      }
    },
    {
      "cell_type": "code",
      "source": [
        "from tensorflow import keras\n",
        "from tensorflow.keras import layers\n",
        "import matplotlib.pyplot as plt\n",
        "\n",
        "conv_base  = keras.applications.vgg16.VGG16(\n",
        "    weights=\"imagenet\",\n",
        "    include_top=False)\n",
        "conv_base.trainable = False"
      ],
      "metadata": {
        "colab": {
          "base_uri": "https://localhost:8080/"
        },
        "id": "PnebUFVw0Kte",
        "outputId": "770a7f53-9549-4d01-d786-159a31ae5e8c"
      },
      "execution_count": 1,
      "outputs": [
        {
          "output_type": "stream",
          "name": "stdout",
          "text": [
            "Downloading data from https://storage.googleapis.com/tensorflow/keras-applications/vgg16/vgg16_weights_tf_dim_ordering_tf_kernels_notop.h5\n",
            "58892288/58889256 [==============================] - 1s 0us/step\n",
            "58900480/58889256 [==============================] - 1s 0us/step\n"
          ]
        }
      ]
    },
    {
      "cell_type": "markdown",
      "source": [
        "Accediendo a la BD de perros y gatos"
      ],
      "metadata": {
        "id": "TmZ5Nfsg1Ipb"
      }
    },
    {
      "cell_type": "code",
      "source": [
        "from google.colab import drive\n",
        "drive.mount('/content/drive')\n",
        "original_dir=r\"/content/drive/MyDrive/PetImages\"\n",
        "new_base_dir=r\"/content/drive/MyDrive/PetImages/cats_vs_dogs_small\""
      ],
      "metadata": {
        "colab": {
          "base_uri": "https://localhost:8080/"
        },
        "id": "oA5lVLU31I02",
        "outputId": "b5dbe6fc-29c6-407e-e5f8-8421911abf18"
      },
      "execution_count": 2,
      "outputs": [
        {
          "output_type": "stream",
          "name": "stdout",
          "text": [
            "Mounted at /content/drive\n"
          ]
        }
      ]
    },
    {
      "cell_type": "markdown",
      "source": [
        "Ajustando los datos de la BD de perros y gatos\n"
      ],
      "metadata": {
        "id": "Traq4jcP1SZn"
      }
    },
    {
      "cell_type": "code",
      "source": [
        "from tensorflow.keras.utils import image_dataset_from_directory\n",
        "\n",
        "train_dataset = image_dataset_from_directory(\n",
        "    new_base_dir+\"/\"+\"train\",\n",
        "    image_size=(180, 180),\n",
        "    batch_size=32)\n",
        "validation_dataset = image_dataset_from_directory(\n",
        "    new_base_dir+\"/\"+\"validation\",\n",
        "    image_size=(180, 180),\n",
        "    batch_size=32)\n",
        "test_dataset = image_dataset_from_directory(\n",
        "    new_base_dir+\"/\"+\"test\",\n",
        "    image_size=(180, 180),\n",
        "    batch_size=32)"
      ],
      "metadata": {
        "colab": {
          "base_uri": "https://localhost:8080/"
        },
        "id": "MC8JnOS71Spb",
        "outputId": "35cc5465-9468-4eb5-a921-3999d1d256ce"
      },
      "execution_count": 3,
      "outputs": [
        {
          "output_type": "stream",
          "name": "stdout",
          "text": [
            "Found 2000 files belonging to 2 classes.\n",
            "Found 1000 files belonging to 2 classes.\n",
            "Found 2000 files belonging to 2 classes.\n"
          ]
        }
      ]
    },
    {
      "cell_type": "markdown",
      "source": [
        "La fase de entrenamiento podrá alterar los pesos de las 4 últimas capas"
      ],
      "metadata": {
        "id": "FAmJSaxQ0eRO"
      }
    },
    {
      "cell_type": "code",
      "source": [
        "conv_base.trainable = True\n",
        "for layer in conv_base.layers[:-4]:\n",
        "    layer.trainable = False"
      ],
      "metadata": {
        "id": "5g7g7s0-0eab"
      },
      "execution_count": 4,
      "outputs": []
    },
    {
      "cell_type": "code",
      "source": [
        "conv_base.summary()"
      ],
      "metadata": {
        "colab": {
          "base_uri": "https://localhost:8080/"
        },
        "id": "2QENghSc28AQ",
        "outputId": "5b8bb4b9-12f9-41c9-b412-aab3a694b6e4"
      },
      "execution_count": 5,
      "outputs": [
        {
          "output_type": "stream",
          "name": "stdout",
          "text": [
            "Model: \"vgg16\"\n",
            "_________________________________________________________________\n",
            " Layer (type)                Output Shape              Param #   \n",
            "=================================================================\n",
            " input_1 (InputLayer)        [(None, None, None, 3)]   0         \n",
            "                                                                 \n",
            " block1_conv1 (Conv2D)       (None, None, None, 64)    1792      \n",
            "                                                                 \n",
            " block1_conv2 (Conv2D)       (None, None, None, 64)    36928     \n",
            "                                                                 \n",
            " block1_pool (MaxPooling2D)  (None, None, None, 64)    0         \n",
            "                                                                 \n",
            " block2_conv1 (Conv2D)       (None, None, None, 128)   73856     \n",
            "                                                                 \n",
            " block2_conv2 (Conv2D)       (None, None, None, 128)   147584    \n",
            "                                                                 \n",
            " block2_pool (MaxPooling2D)  (None, None, None, 128)   0         \n",
            "                                                                 \n",
            " block3_conv1 (Conv2D)       (None, None, None, 256)   295168    \n",
            "                                                                 \n",
            " block3_conv2 (Conv2D)       (None, None, None, 256)   590080    \n",
            "                                                                 \n",
            " block3_conv3 (Conv2D)       (None, None, None, 256)   590080    \n",
            "                                                                 \n",
            " block3_pool (MaxPooling2D)  (None, None, None, 256)   0         \n",
            "                                                                 \n",
            " block4_conv1 (Conv2D)       (None, None, None, 512)   1180160   \n",
            "                                                                 \n",
            " block4_conv2 (Conv2D)       (None, None, None, 512)   2359808   \n",
            "                                                                 \n",
            " block4_conv3 (Conv2D)       (None, None, None, 512)   2359808   \n",
            "                                                                 \n",
            " block4_pool (MaxPooling2D)  (None, None, None, 512)   0         \n",
            "                                                                 \n",
            " block5_conv1 (Conv2D)       (None, None, None, 512)   2359808   \n",
            "                                                                 \n",
            " block5_conv2 (Conv2D)       (None, None, None, 512)   2359808   \n",
            "                                                                 \n",
            " block5_conv3 (Conv2D)       (None, None, None, 512)   2359808   \n",
            "                                                                 \n",
            " block5_pool (MaxPooling2D)  (None, None, None, 512)   0         \n",
            "                                                                 \n",
            "=================================================================\n",
            "Total params: 14,714,688\n",
            "Trainable params: 7,079,424\n",
            "Non-trainable params: 7,635,264\n",
            "_________________________________________________________________\n"
          ]
        }
      ]
    },
    {
      "cell_type": "markdown",
      "source": [
        "Transformaciones para expandir las imágenes y definición de la arquitectura\n"
      ],
      "metadata": {
        "id": "5DecNkRj2KfX"
      }
    },
    {
      "cell_type": "code",
      "source": [
        "data_augmentation = keras.Sequential(\n",
        "    [\n",
        "        layers.RandomFlip(\"horizontal\"),\n",
        "        layers.RandomRotation(0.1),\n",
        "        layers.RandomZoom(0.2),\n",
        "    ]\n",
        ")\n",
        "\n",
        "inputs = keras.Input(shape=(180, 180, 3))\n",
        "x = data_augmentation(inputs)\n",
        "x = keras.applications.vgg16.preprocess_input(x)\n",
        "x = conv_base(x)\n",
        "x = layers.Flatten()(x)\n",
        "x = layers.Dense(256)(x)\n",
        "x = layers.Dropout(0.5)(x)\n",
        "outputs = layers.Dense(1, activation=\"sigmoid\")(x)\n",
        "model = keras.Model(inputs, outputs)"
      ],
      "metadata": {
        "id": "mtUlUv7-2KpM"
      },
      "execution_count": 7,
      "outputs": []
    },
    {
      "cell_type": "markdown",
      "source": [
        "Fijar los hiperparámetros y entrenar la red"
      ],
      "metadata": {
        "id": "i-9CwKt91131"
      }
    },
    {
      "cell_type": "code",
      "source": [
        "model.compile(loss=\"binary_crossentropy\",\n",
        "              optimizer=keras.optimizers.RMSprop(learning_rate=1e-5),\n",
        "              metrics=[\"accuracy\"])\n",
        "\n",
        "history = model.fit(\n",
        "    train_dataset,\n",
        "    epochs=10,  #30\n",
        "    validation_data=validation_dataset)"
      ],
      "metadata": {
        "colab": {
          "base_uri": "https://localhost:8080/"
        },
        "id": "Wb9Ijf7612B1",
        "outputId": "a1d35f7c-9ab6-43ae-bfa9-adbdf316be48"
      },
      "execution_count": 9,
      "outputs": [
        {
          "output_type": "stream",
          "name": "stdout",
          "text": [
            "Epoch 1/10\n",
            "63/63 [==============================] - 830s 12s/step - loss: 4.6002 - accuracy: 0.7570 - val_loss: 1.2193 - val_accuracy: 0.9160\n",
            "Epoch 2/10\n",
            "63/63 [==============================] - 12s 179ms/step - loss: 2.4963 - accuracy: 0.8575 - val_loss: 0.8342 - val_accuracy: 0.9450\n",
            "Epoch 3/10\n",
            "63/63 [==============================] - 12s 182ms/step - loss: 1.9418 - accuracy: 0.8890 - val_loss: 0.6681 - val_accuracy: 0.9560\n",
            "Epoch 4/10\n",
            "63/63 [==============================] - 12s 184ms/step - loss: 1.8211 - accuracy: 0.9010 - val_loss: 0.5777 - val_accuracy: 0.9590\n",
            "Epoch 5/10\n",
            "63/63 [==============================] - 12s 185ms/step - loss: 1.4320 - accuracy: 0.9160 - val_loss: 0.5624 - val_accuracy: 0.9690\n",
            "Epoch 6/10\n",
            "63/63 [==============================] - 12s 187ms/step - loss: 1.3725 - accuracy: 0.9205 - val_loss: 0.6017 - val_accuracy: 0.9680\n",
            "Epoch 7/10\n",
            "63/63 [==============================] - 12s 190ms/step - loss: 0.8832 - accuracy: 0.9450 - val_loss: 0.5512 - val_accuracy: 0.9680\n",
            "Epoch 8/10\n",
            "63/63 [==============================] - 12s 187ms/step - loss: 0.9818 - accuracy: 0.9385 - val_loss: 0.5789 - val_accuracy: 0.9720\n",
            "Epoch 9/10\n",
            "63/63 [==============================] - 12s 185ms/step - loss: 1.0464 - accuracy: 0.9320 - val_loss: 0.5584 - val_accuracy: 0.9680\n",
            "Epoch 10/10\n",
            "63/63 [==============================] - 12s 185ms/step - loss: 1.1100 - accuracy: 0.9410 - val_loss: 0.5551 - val_accuracy: 0.9730\n"
          ]
        }
      ]
    },
    {
      "cell_type": "markdown",
      "source": [
        "Visualizando la pérdida y el accuracy durante el entrenamiento\n"
      ],
      "metadata": {
        "id": "eXK5nzg42xwX"
      }
    },
    {
      "cell_type": "code",
      "source": [
        "acc = history.history[\"accuracy\"]\n",
        "val_acc = history.history[\"val_accuracy\"]\n",
        "loss = history.history[\"loss\"]\n",
        "val_loss = history.history[\"val_loss\"]\n",
        "epochs = range(1, len(acc) + 1)\n",
        "plt.plot(epochs, acc, \"bo\", label=\"Training accuracy\")\n",
        "plt.plot(epochs, val_acc, \"b\", label=\"Validation accuracy\")\n",
        "plt.title(\"Training and validation accuracy\")\n",
        "plt.legend()\n",
        "plt.figure()\n",
        "plt.plot(epochs, loss, \"bo\", label=\"Training loss\")\n",
        "plt.plot(epochs, val_loss, \"b\", label=\"Validation loss\")\n",
        "plt.title(\"Training and validation loss\")\n",
        "plt.legend()\n",
        "plt.show()"
      ],
      "metadata": {
        "colab": {
          "base_uri": "https://localhost:8080/",
          "height": 545
        },
        "id": "R-6hhLky2x7o",
        "outputId": "81fe21a3-b5ba-43b4-c858-d3c6828ed821"
      },
      "execution_count": 10,
      "outputs": [
        {
          "output_type": "display_data",
          "data": {
            "text/plain": [
              "<Figure size 432x288 with 1 Axes>"
            ],
            "image/png": "[encoded data removed]"
          },
          "metadata": {
            "needs_background": "light"
          }
        },
        {
          "output_type": "display_data",
          "data": {
            "text/plain": [
              "<Figure size 432x288 with 1 Axes>"
            ],
            "image/png": "[encoded data removed]"
          },
          "metadata": {
            "needs_background": "light"
          }
        }
      ]
    },
    {
      "cell_type": "markdown",
      "source": [
        "Ejercicio:\n",
        "---------\n",
        "\n",
        "1. Revise los accuracy durante el entrenamiento para todas las mejoras que se han hecho a la BD de perros y gatos.\n",
        "2. Pruebe con regularización y dropout ¿Qué obtiene?"
      ],
      "metadata": {
        "id": "UEbzNsebCjA5"
      }
    }
  ]
}